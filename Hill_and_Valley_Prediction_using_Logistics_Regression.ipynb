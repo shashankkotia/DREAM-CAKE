{
  "nbformat": 4,
  "nbformat_minor": 0,
  "metadata": {
    "colab": {
      "provenance": [],
      "authorship_tag": "ABX9TyNdMqQMdBuwVL7MhZWt/qjv",
      "include_colab_link": true
    },
    "kernelspec": {
      "name": "python3",
      "display_name": "Python 3"
    },
    "language_info": {
      "name": "python"
    }
  },
  "cells": [
    {
      "cell_type": "markdown",
      "metadata": {
        "id": "view-in-github",
        "colab_type": "text"
      },
      "source": [
        "<a href=\"https://colab.research.google.com/github/shashankkotia/DREAM-CAKE/blob/main/Hill_and_Valley_Prediction_using_Logistics_Regression.ipynb\" target=\"_parent\"><img src=\"https://colab.research.google.com/assets/colab-badge.svg\" alt=\"Open In Colab\"/></a>"
      ]
    },
    {
      "cell_type": "markdown",
      "source": [
        "\n",
        "Hill and Valley Prediction using Logistics Regression"
      ],
      "metadata": {
        "id": "rKNHAoFS8yV_"
      }
    },
    {
      "cell_type": "markdown",
      "source": [
        "**Getting understanding about Data Set**\n",
        "Each record represents 100 points on a two-dimensional graph.When plotted in order as the y coordinate,the points will create either a Hill or a valley .see the original source for some example of these graphs.\n",
        "1-100:Labled \"V##\",Floating point values (numeric),the x=values.\n",
        "101:labled \"Class\".Binary(0,1) representing{valley,hill}\n",
        "\n",
        "\n",
        "\n"
      ],
      "metadata": {
        "id": "jwbqlFNe9OkV"
      }
    },
    {
      "cell_type": "markdown",
      "source": [
        "Import Library"
      ],
      "metadata": {
        "id": "duP01oEA9zXG"
      }
    },
    {
      "cell_type": "code",
      "source": [
        "import pandas as pd\n"
      ],
      "metadata": {
        "id": "2IToLySxAInO"
      },
      "execution_count": 2,
      "outputs": []
    },
    {
      "cell_type": "markdown",
      "source": [
        "Import Data"
      ],
      "metadata": {
        "id": "lcwsChUgAy19"
      }
    },
    {
      "cell_type": "code",
      "source": [
        "pf = pd.read_csv('https://raw.githubusercontent.com/YBIFoundation/Dataset/main/Hill%20Valley%20Dataset.csv')"
      ],
      "metadata": {
        "id": "GFoguI8LCfhr"
      },
      "execution_count": 5,
      "outputs": []
    },
    {
      "cell_type": "markdown",
      "source": [
        "Describe Data"
      ],
      "metadata": {
        "id": "G1EJiZuAED6V"
      }
    },
    {
      "cell_type": "code",
      "source": [
        "pf.info()"
      ],
      "metadata": {
        "colab": {
          "base_uri": "https://localhost:8080/"
        },
        "id": "zcTFJgEZEGeT",
        "outputId": "937802d0-0076-478b-8214-2ecce67c2d83"
      },
      "execution_count": 6,
      "outputs": [
        {
          "output_type": "stream",
          "name": "stdout",
          "text": [
            "<class 'pandas.core.frame.DataFrame'>\n",
            "RangeIndex: 1212 entries, 0 to 1211\n",
            "Columns: 101 entries, V1 to Class\n",
            "dtypes: float64(100), int64(1)\n",
            "memory usage: 956.5 KB\n"
          ]
        }
      ]
    },
    {
      "cell_type": "code",
      "source": [
        "pf.describe()"
      ],
      "metadata": {
        "colab": {
          "base_uri": "https://localhost:8080/",
          "height": 349
        },
        "id": "QONkqlgjEU0j",
        "outputId": "269b22ee-5608-42d3-d2cc-c6dd4d42b6f1"
      },
      "execution_count": 7,
      "outputs": [
        {
          "output_type": "execute_result",
          "data": {
            "text/plain": [
              "                  V1             V2             V3             V4  \\\n",
              "count    1212.000000    1212.000000    1212.000000    1212.000000   \n",
              "mean     8169.091881    8144.306262    8192.653738    8176.868738   \n",
              "std     17974.950461   17881.049734   18087.938901   17991.903982   \n",
              "min         0.920000       0.900000       0.850000       0.890000   \n",
              "25%        19.602500      19.595000      18.925000      19.277500   \n",
              "50%       301.425000     295.205000     297.260000     299.720000   \n",
              "75%      5358.795000    5417.847500    5393.367500    5388.482500   \n",
              "max    117807.870000  108896.480000  119031.350000  110212.590000   \n",
              "\n",
              "                  V5             V6             V7             V8  \\\n",
              "count    1212.000000    1212.000000    1212.000000    1212.000000   \n",
              "mean     8128.297211    8173.030008    8188.582748    8183.641543   \n",
              "std     17846.757963   17927.114105   18029.562695   18048.582159   \n",
              "min         0.880000       0.860000       0.870000       0.650000   \n",
              "25%        19.210000      19.582500      18.690000      19.062500   \n",
              "50%       295.115000     294.380000     295.935000     290.850000   \n",
              "75%      5321.987500    5328.040000    5443.977500    5283.655000   \n",
              "max    113000.470000  116848.390000  115609.240000  118522.320000   \n",
              "\n",
              "                  V9            V10  ...            V92            V93  \\\n",
              "count    1212.000000    1212.000000  ...    1212.000000    1212.000000   \n",
              "mean     8154.670066    8120.767574  ...    8120.056815    8125.917409   \n",
              "std     17982.390713   17900.798206  ...   17773.190621   17758.182403   \n",
              "min         0.650000       0.620000  ...       0.870000       0.900000   \n",
              "25%        19.532500      19.285000  ...      19.197500      18.895000   \n",
              "50%       294.565000     295.160000  ...     297.845000     295.420000   \n",
              "75%      5378.180000    5319.097500  ...    5355.355000    5386.037500   \n",
              "max    112895.900000  117798.300000  ...  113858.680000  112948.830000   \n",
              "\n",
              "                 V94            V95            V96            V97  \\\n",
              "count    1212.000000    1212.000000    1212.000000    1212.000000   \n",
              "mean     8158.793812    8140.885421    8213.480611    8185.594002   \n",
              "std     17919.510371   17817.945646   18016.445265   17956.084223   \n",
              "min         0.870000       0.880000       0.890000       0.890000   \n",
              "25%        19.237500      19.385000      19.027500      19.135000   \n",
              "50%       299.155000     293.355000     301.370000     296.960000   \n",
              "75%      5286.385000    5345.797500    5300.890000    5361.047500   \n",
              "max    112409.570000  112933.730000  112037.220000  115110.420000   \n",
              "\n",
              "                 V98            V99           V100        Class  \n",
              "count    1212.000000    1212.000000    1212.000000  1212.000000  \n",
              "mean     8140.195355    8192.960891    8156.197376     0.500000  \n",
              "std     17768.356106   18064.781479   17829.310973     0.500206  \n",
              "min         0.860000       0.910000       0.890000     0.000000  \n",
              "25%        19.205000      18.812500      19.145000     0.000000  \n",
              "50%       300.925000     299.200000     302.275000     0.500000  \n",
              "75%      5390.850000    5288.712500    5357.847500     1.000000  \n",
              "max    116431.960000  113291.960000  114533.760000     1.000000  \n",
              "\n",
              "[8 rows x 101 columns]"
            ],
            "text/html": [
              "\n",
              "  <div id=\"df-c1e35d3e-61bf-438b-b360-ed6ca964d83b\" class=\"colab-df-container\">\n",
              "    <div>\n",
              "<style scoped>\n",
              "    .dataframe tbody tr th:only-of-type {\n",
              "        vertical-align: middle;\n",
              "    }\n",
              "\n",
              "    .dataframe tbody tr th {\n",
              "        vertical-align: top;\n",
              "    }\n",
              "\n",
              "    .dataframe thead th {\n",
              "        text-align: right;\n",
              "    }\n",
              "</style>\n",
              "<table border=\"1\" class=\"dataframe\">\n",
              "  <thead>\n",
              "    <tr style=\"text-align: right;\">\n",
              "      <th></th>\n",
              "      <th>V1</th>\n",
              "      <th>V2</th>\n",
              "      <th>V3</th>\n",
              "      <th>V4</th>\n",
              "      <th>V5</th>\n",
              "      <th>V6</th>\n",
              "      <th>V7</th>\n",
              "      <th>V8</th>\n",
              "      <th>V9</th>\n",
              "      <th>V10</th>\n",
              "      <th>...</th>\n",
              "      <th>V92</th>\n",
              "      <th>V93</th>\n",
              "      <th>V94</th>\n",
              "      <th>V95</th>\n",
              "      <th>V96</th>\n",
              "      <th>V97</th>\n",
              "      <th>V98</th>\n",
              "      <th>V99</th>\n",
              "      <th>V100</th>\n",
              "      <th>Class</th>\n",
              "    </tr>\n",
              "  </thead>\n",
              "  <tbody>\n",
              "    <tr>\n",
              "      <th>count</th>\n",
              "      <td>1212.000000</td>\n",
              "      <td>1212.000000</td>\n",
              "      <td>1212.000000</td>\n",
              "      <td>1212.000000</td>\n",
              "      <td>1212.000000</td>\n",
              "      <td>1212.000000</td>\n",
              "      <td>1212.000000</td>\n",
              "      <td>1212.000000</td>\n",
              "      <td>1212.000000</td>\n",
              "      <td>1212.000000</td>\n",
              "      <td>...</td>\n",
              "      <td>1212.000000</td>\n",
              "      <td>1212.000000</td>\n",
              "      <td>1212.000000</td>\n",
              "      <td>1212.000000</td>\n",
              "      <td>1212.000000</td>\n",
              "      <td>1212.000000</td>\n",
              "      <td>1212.000000</td>\n",
              "      <td>1212.000000</td>\n",
              "      <td>1212.000000</td>\n",
              "      <td>1212.000000</td>\n",
              "    </tr>\n",
              "    <tr>\n",
              "      <th>mean</th>\n",
              "      <td>8169.091881</td>\n",
              "      <td>8144.306262</td>\n",
              "      <td>8192.653738</td>\n",
              "      <td>8176.868738</td>\n",
              "      <td>8128.297211</td>\n",
              "      <td>8173.030008</td>\n",
              "      <td>8188.582748</td>\n",
              "      <td>8183.641543</td>\n",
              "      <td>8154.670066</td>\n",
              "      <td>8120.767574</td>\n",
              "      <td>...</td>\n",
              "      <td>8120.056815</td>\n",
              "      <td>8125.917409</td>\n",
              "      <td>8158.793812</td>\n",
              "      <td>8140.885421</td>\n",
              "      <td>8213.480611</td>\n",
              "      <td>8185.594002</td>\n",
              "      <td>8140.195355</td>\n",
              "      <td>8192.960891</td>\n",
              "      <td>8156.197376</td>\n",
              "      <td>0.500000</td>\n",
              "    </tr>\n",
              "    <tr>\n",
              "      <th>std</th>\n",
              "      <td>17974.950461</td>\n",
              "      <td>17881.049734</td>\n",
              "      <td>18087.938901</td>\n",
              "      <td>17991.903982</td>\n",
              "      <td>17846.757963</td>\n",
              "      <td>17927.114105</td>\n",
              "      <td>18029.562695</td>\n",
              "      <td>18048.582159</td>\n",
              "      <td>17982.390713</td>\n",
              "      <td>17900.798206</td>\n",
              "      <td>...</td>\n",
              "      <td>17773.190621</td>\n",
              "      <td>17758.182403</td>\n",
              "      <td>17919.510371</td>\n",
              "      <td>17817.945646</td>\n",
              "      <td>18016.445265</td>\n",
              "      <td>17956.084223</td>\n",
              "      <td>17768.356106</td>\n",
              "      <td>18064.781479</td>\n",
              "      <td>17829.310973</td>\n",
              "      <td>0.500206</td>\n",
              "    </tr>\n",
              "    <tr>\n",
              "      <th>min</th>\n",
              "      <td>0.920000</td>\n",
              "      <td>0.900000</td>\n",
              "      <td>0.850000</td>\n",
              "      <td>0.890000</td>\n",
              "      <td>0.880000</td>\n",
              "      <td>0.860000</td>\n",
              "      <td>0.870000</td>\n",
              "      <td>0.650000</td>\n",
              "      <td>0.650000</td>\n",
              "      <td>0.620000</td>\n",
              "      <td>...</td>\n",
              "      <td>0.870000</td>\n",
              "      <td>0.900000</td>\n",
              "      <td>0.870000</td>\n",
              "      <td>0.880000</td>\n",
              "      <td>0.890000</td>\n",
              "      <td>0.890000</td>\n",
              "      <td>0.860000</td>\n",
              "      <td>0.910000</td>\n",
              "      <td>0.890000</td>\n",
              "      <td>0.000000</td>\n",
              "    </tr>\n",
              "    <tr>\n",
              "      <th>25%</th>\n",
              "      <td>19.602500</td>\n",
              "      <td>19.595000</td>\n",
              "      <td>18.925000</td>\n",
              "      <td>19.277500</td>\n",
              "      <td>19.210000</td>\n",
              "      <td>19.582500</td>\n",
              "      <td>18.690000</td>\n",
              "      <td>19.062500</td>\n",
              "      <td>19.532500</td>\n",
              "      <td>19.285000</td>\n",
              "      <td>...</td>\n",
              "      <td>19.197500</td>\n",
              "      <td>18.895000</td>\n",
              "      <td>19.237500</td>\n",
              "      <td>19.385000</td>\n",
              "      <td>19.027500</td>\n",
              "      <td>19.135000</td>\n",
              "      <td>19.205000</td>\n",
              "      <td>18.812500</td>\n",
              "      <td>19.145000</td>\n",
              "      <td>0.000000</td>\n",
              "    </tr>\n",
              "    <tr>\n",
              "      <th>50%</th>\n",
              "      <td>301.425000</td>\n",
              "      <td>295.205000</td>\n",
              "      <td>297.260000</td>\n",
              "      <td>299.720000</td>\n",
              "      <td>295.115000</td>\n",
              "      <td>294.380000</td>\n",
              "      <td>295.935000</td>\n",
              "      <td>290.850000</td>\n",
              "      <td>294.565000</td>\n",
              "      <td>295.160000</td>\n",
              "      <td>...</td>\n",
              "      <td>297.845000</td>\n",
              "      <td>295.420000</td>\n",
              "      <td>299.155000</td>\n",
              "      <td>293.355000</td>\n",
              "      <td>301.370000</td>\n",
              "      <td>296.960000</td>\n",
              "      <td>300.925000</td>\n",
              "      <td>299.200000</td>\n",
              "      <td>302.275000</td>\n",
              "      <td>0.500000</td>\n",
              "    </tr>\n",
              "    <tr>\n",
              "      <th>75%</th>\n",
              "      <td>5358.795000</td>\n",
              "      <td>5417.847500</td>\n",
              "      <td>5393.367500</td>\n",
              "      <td>5388.482500</td>\n",
              "      <td>5321.987500</td>\n",
              "      <td>5328.040000</td>\n",
              "      <td>5443.977500</td>\n",
              "      <td>5283.655000</td>\n",
              "      <td>5378.180000</td>\n",
              "      <td>5319.097500</td>\n",
              "      <td>...</td>\n",
              "      <td>5355.355000</td>\n",
              "      <td>5386.037500</td>\n",
              "      <td>5286.385000</td>\n",
              "      <td>5345.797500</td>\n",
              "      <td>5300.890000</td>\n",
              "      <td>5361.047500</td>\n",
              "      <td>5390.850000</td>\n",
              "      <td>5288.712500</td>\n",
              "      <td>5357.847500</td>\n",
              "      <td>1.000000</td>\n",
              "    </tr>\n",
              "    <tr>\n",
              "      <th>max</th>\n",
              "      <td>117807.870000</td>\n",
              "      <td>108896.480000</td>\n",
              "      <td>119031.350000</td>\n",
              "      <td>110212.590000</td>\n",
              "      <td>113000.470000</td>\n",
              "      <td>116848.390000</td>\n",
              "      <td>115609.240000</td>\n",
              "      <td>118522.320000</td>\n",
              "      <td>112895.900000</td>\n",
              "      <td>117798.300000</td>\n",
              "      <td>...</td>\n",
              "      <td>113858.680000</td>\n",
              "      <td>112948.830000</td>\n",
              "      <td>112409.570000</td>\n",
              "      <td>112933.730000</td>\n",
              "      <td>112037.220000</td>\n",
              "      <td>115110.420000</td>\n",
              "      <td>116431.960000</td>\n",
              "      <td>113291.960000</td>\n",
              "      <td>114533.760000</td>\n",
              "      <td>1.000000</td>\n",
              "    </tr>\n",
              "  </tbody>\n",
              "</table>\n",
              "<p>8 rows × 101 columns</p>\n",
              "</div>\n",
              "    <div class=\"colab-df-buttons\">\n",
              "\n",
              "  <div class=\"colab-df-container\">\n",
              "    <button class=\"colab-df-convert\" onclick=\"convertToInteractive('df-c1e35d3e-61bf-438b-b360-ed6ca964d83b')\"\n",
              "            title=\"Convert this dataframe to an interactive table.\"\n",
              "            style=\"display:none;\">\n",
              "\n",
              "  <svg xmlns=\"http://www.w3.org/2000/svg\" height=\"24px\" viewBox=\"0 -960 960 960\">\n",
              "    <path d=\"M120-120v-720h720v720H120Zm60-500h600v-160H180v160Zm220 220h160v-160H400v160Zm0 220h160v-160H400v160ZM180-400h160v-160H180v160Zm440 0h160v-160H620v160ZM180-180h160v-160H180v160Zm440 0h160v-160H620v160Z\"/>\n",
              "  </svg>\n",
              "    </button>\n",
              "\n",
              "  <style>\n",
              "    .colab-df-container {\n",
              "      display:flex;\n",
              "      gap: 12px;\n",
              "    }\n",
              "\n",
              "    .colab-df-convert {\n",
              "      background-color: #E8F0FE;\n",
              "      border: none;\n",
              "      border-radius: 50%;\n",
              "      cursor: pointer;\n",
              "      display: none;\n",
              "      fill: #1967D2;\n",
              "      height: 32px;\n",
              "      padding: 0 0 0 0;\n",
              "      width: 32px;\n",
              "    }\n",
              "\n",
              "    .colab-df-convert:hover {\n",
              "      background-color: #E2EBFA;\n",
              "      box-shadow: 0px 1px 2px rgba(60, 64, 67, 0.3), 0px 1px 3px 1px rgba(60, 64, 67, 0.15);\n",
              "      fill: #174EA6;\n",
              "    }\n",
              "\n",
              "    .colab-df-buttons div {\n",
              "      margin-bottom: 4px;\n",
              "    }\n",
              "\n",
              "    [theme=dark] .colab-df-convert {\n",
              "      background-color: #3B4455;\n",
              "      fill: #D2E3FC;\n",
              "    }\n",
              "\n",
              "    [theme=dark] .colab-df-convert:hover {\n",
              "      background-color: #434B5C;\n",
              "      box-shadow: 0px 1px 3px 1px rgba(0, 0, 0, 0.15);\n",
              "      filter: drop-shadow(0px 1px 2px rgba(0, 0, 0, 0.3));\n",
              "      fill: #FFFFFF;\n",
              "    }\n",
              "  </style>\n",
              "\n",
              "    <script>\n",
              "      const buttonEl =\n",
              "        document.querySelector('#df-c1e35d3e-61bf-438b-b360-ed6ca964d83b button.colab-df-convert');\n",
              "      buttonEl.style.display =\n",
              "        google.colab.kernel.accessAllowed ? 'block' : 'none';\n",
              "\n",
              "      async function convertToInteractive(key) {\n",
              "        const element = document.querySelector('#df-c1e35d3e-61bf-438b-b360-ed6ca964d83b');\n",
              "        const dataTable =\n",
              "          await google.colab.kernel.invokeFunction('convertToInteractive',\n",
              "                                                    [key], {});\n",
              "        if (!dataTable) return;\n",
              "\n",
              "        const docLinkHtml = 'Like what you see? Visit the ' +\n",
              "          '<a target=\"_blank\" href=https://colab.research.google.com/notebooks/data_table.ipynb>data table notebook</a>'\n",
              "          + ' to learn more about interactive tables.';\n",
              "        element.innerHTML = '';\n",
              "        dataTable['output_type'] = 'display_data';\n",
              "        await google.colab.output.renderOutput(dataTable, element);\n",
              "        const docLink = document.createElement('div');\n",
              "        docLink.innerHTML = docLinkHtml;\n",
              "        element.appendChild(docLink);\n",
              "      }\n",
              "    </script>\n",
              "  </div>\n",
              "\n",
              "\n",
              "<div id=\"df-dbe87414-91d3-4f05-867d-b598b220fd68\">\n",
              "  <button class=\"colab-df-quickchart\" onclick=\"quickchart('df-dbe87414-91d3-4f05-867d-b598b220fd68')\"\n",
              "            title=\"Suggest charts\"\n",
              "            style=\"display:none;\">\n",
              "\n",
              "<svg xmlns=\"http://www.w3.org/2000/svg\" height=\"24px\"viewBox=\"0 0 24 24\"\n",
              "     width=\"24px\">\n",
              "    <g>\n",
              "        <path d=\"M19 3H5c-1.1 0-2 .9-2 2v14c0 1.1.9 2 2 2h14c1.1 0 2-.9 2-2V5c0-1.1-.9-2-2-2zM9 17H7v-7h2v7zm4 0h-2V7h2v10zm4 0h-2v-4h2v4z\"/>\n",
              "    </g>\n",
              "</svg>\n",
              "  </button>\n",
              "\n",
              "<style>\n",
              "  .colab-df-quickchart {\n",
              "      --bg-color: #E8F0FE;\n",
              "      --fill-color: #1967D2;\n",
              "      --hover-bg-color: #E2EBFA;\n",
              "      --hover-fill-color: #174EA6;\n",
              "      --disabled-fill-color: #AAA;\n",
              "      --disabled-bg-color: #DDD;\n",
              "  }\n",
              "\n",
              "  [theme=dark] .colab-df-quickchart {\n",
              "      --bg-color: #3B4455;\n",
              "      --fill-color: #D2E3FC;\n",
              "      --hover-bg-color: #434B5C;\n",
              "      --hover-fill-color: #FFFFFF;\n",
              "      --disabled-bg-color: #3B4455;\n",
              "      --disabled-fill-color: #666;\n",
              "  }\n",
              "\n",
              "  .colab-df-quickchart {\n",
              "    background-color: var(--bg-color);\n",
              "    border: none;\n",
              "    border-radius: 50%;\n",
              "    cursor: pointer;\n",
              "    display: none;\n",
              "    fill: var(--fill-color);\n",
              "    height: 32px;\n",
              "    padding: 0;\n",
              "    width: 32px;\n",
              "  }\n",
              "\n",
              "  .colab-df-quickchart:hover {\n",
              "    background-color: var(--hover-bg-color);\n",
              "    box-shadow: 0 1px 2px rgba(60, 64, 67, 0.3), 0 1px 3px 1px rgba(60, 64, 67, 0.15);\n",
              "    fill: var(--button-hover-fill-color);\n",
              "  }\n",
              "\n",
              "  .colab-df-quickchart-complete:disabled,\n",
              "  .colab-df-quickchart-complete:disabled:hover {\n",
              "    background-color: var(--disabled-bg-color);\n",
              "    fill: var(--disabled-fill-color);\n",
              "    box-shadow: none;\n",
              "  }\n",
              "\n",
              "  .colab-df-spinner {\n",
              "    border: 2px solid var(--fill-color);\n",
              "    border-color: transparent;\n",
              "    border-bottom-color: var(--fill-color);\n",
              "    animation:\n",
              "      spin 1s steps(1) infinite;\n",
              "  }\n",
              "\n",
              "  @keyframes spin {\n",
              "    0% {\n",
              "      border-color: transparent;\n",
              "      border-bottom-color: var(--fill-color);\n",
              "      border-left-color: var(--fill-color);\n",
              "    }\n",
              "    20% {\n",
              "      border-color: transparent;\n",
              "      border-left-color: var(--fill-color);\n",
              "      border-top-color: var(--fill-color);\n",
              "    }\n",
              "    30% {\n",
              "      border-color: transparent;\n",
              "      border-left-color: var(--fill-color);\n",
              "      border-top-color: var(--fill-color);\n",
              "      border-right-color: var(--fill-color);\n",
              "    }\n",
              "    40% {\n",
              "      border-color: transparent;\n",
              "      border-right-color: var(--fill-color);\n",
              "      border-top-color: var(--fill-color);\n",
              "    }\n",
              "    60% {\n",
              "      border-color: transparent;\n",
              "      border-right-color: var(--fill-color);\n",
              "    }\n",
              "    80% {\n",
              "      border-color: transparent;\n",
              "      border-right-color: var(--fill-color);\n",
              "      border-bottom-color: var(--fill-color);\n",
              "    }\n",
              "    90% {\n",
              "      border-color: transparent;\n",
              "      border-bottom-color: var(--fill-color);\n",
              "    }\n",
              "  }\n",
              "</style>\n",
              "\n",
              "  <script>\n",
              "    async function quickchart(key) {\n",
              "      const quickchartButtonEl =\n",
              "        document.querySelector('#' + key + ' button');\n",
              "      quickchartButtonEl.disabled = true;  // To prevent multiple clicks.\n",
              "      quickchartButtonEl.classList.add('colab-df-spinner');\n",
              "      try {\n",
              "        const charts = await google.colab.kernel.invokeFunction(\n",
              "            'suggestCharts', [key], {});\n",
              "      } catch (error) {\n",
              "        console.error('Error during call to suggestCharts:', error);\n",
              "      }\n",
              "      quickchartButtonEl.classList.remove('colab-df-spinner');\n",
              "      quickchartButtonEl.classList.add('colab-df-quickchart-complete');\n",
              "    }\n",
              "    (() => {\n",
              "      let quickchartButtonEl =\n",
              "        document.querySelector('#df-dbe87414-91d3-4f05-867d-b598b220fd68 button');\n",
              "      quickchartButtonEl.style.display =\n",
              "        google.colab.kernel.accessAllowed ? 'block' : 'none';\n",
              "    })();\n",
              "  </script>\n",
              "</div>\n",
              "\n",
              "    </div>\n",
              "  </div>\n"
            ],
            "application/vnd.google.colaboratory.intrinsic+json": {
              "type": "dataframe"
            }
          },
          "metadata": {},
          "execution_count": 7
        }
      ]
    },
    {
      "cell_type": "markdown",
      "source": [
        "Data Visualization"
      ],
      "metadata": {
        "id": "8HGgPVuDEc4W"
      }
    },
    {
      "cell_type": "code",
      "source": [
        "import matplotlib.pyplot as plt\n",
        "import seaborn as sns\n",
        "pf.head()\n",
        "\n",
        "\n",
        "sns.countplot(x='Class', data=pf)\n",
        "plt.title('Class Distribution (0 = Valley, 1 = Hill)')\n",
        "plt.show()\n",
        "\n",
        "\n",
        "corr = pf.iloc[:, :20].corr()\n",
        "plt.figure(figsize=(12, 8))\n",
        "sns.heatmap(corr, annot=False, cmap='coolwarm')\n",
        "plt.title('Feature Correlation Heatmap')\n",
        "plt.show()\n"
      ],
      "metadata": {
        "colab": {
          "base_uri": "https://localhost:8080/",
          "height": 1000
        },
        "id": "BbMz8wvKKv4R",
        "outputId": "8ddd2bcb-4f27-4c19-e52b-9a792ec4134f"
      },
      "execution_count": 11,
      "outputs": [
        {
          "output_type": "display_data",
          "data": {
            "text/plain": [
              "<Figure size 640x480 with 1 Axes>"
            ],
            "image/png": "[encoded data removed]"
          },
          "metadata": {}
        },
        {
          "output_type": "display_data",
          "data": {
            "text/plain": [
              "<Figure size 1200x800 with 2 Axes>"
            ],
            "image/png": "[encoded data removed]"
          },
          "metadata": {}
        }
      ]
    },
    {
      "cell_type": "markdown",
      "source": [
        "Data Preprocessing"
      ],
      "metadata": {
        "id": "_v_DFFgjK9im"
      }
    },
    {
      "cell_type": "code",
      "source": [
        "from sklearn.model_selection import train_test_split\n",
        "from sklearn.preprocessing import StandardScaler\n",
        "\n",
        "\n",
        "X = pf.drop('Class', axis=1)\n",
        "y = pf['Class']\n",
        "\n",
        "\n",
        "scaler = StandardScaler()\n",
        "X_scaled = scaler.fit_transform(X)\n",
        "\n",
        "\n",
        "X_train, X_test, y_train, y_test = train_test_split(X_scaled, y, test_size=0.3, random_state=42)\n"
      ],
      "metadata": {
        "id": "DZuzPOCDLA1m"
      },
      "execution_count": 13,
      "outputs": []
    },
    {
      "cell_type": "markdown",
      "source": [
        "Define Target Variable (y) and Feature Variables (X)"
      ],
      "metadata": {
        "id": "_N-TE8_bLMSV"
      }
    },
    {
      "cell_type": "code",
      "source": [
        "X = pf.drop('Class', axis=1)"
      ],
      "metadata": {
        "id": "9BmTUZmbLP3w"
      },
      "execution_count": 15,
      "outputs": []
    },
    {
      "cell_type": "code",
      "source": [
        "X = pf.drop('Class', axis=1)"
      ],
      "metadata": {
        "id": "soXe1dScNMmn"
      },
      "execution_count": 16,
      "outputs": []
    },
    {
      "cell_type": "code",
      "source": [
        "X.shape"
      ],
      "metadata": {
        "colab": {
          "base_uri": "https://localhost:8080/"
        },
        "id": "V4zmu6qJNSES",
        "outputId": "a04be9b0-ab0a-4d97-af5f-813407fa50f6"
      },
      "execution_count": 17,
      "outputs": [
        {
          "output_type": "execute_result",
          "data": {
            "text/plain": [
              "(1212, 100)"
            ]
          },
          "metadata": {},
          "execution_count": 17
        }
      ]
    },
    {
      "cell_type": "code",
      "source": [
        "y.shape"
      ],
      "metadata": {
        "colab": {
          "base_uri": "https://localhost:8080/"
        },
        "id": "x_wOQIlUNWin",
        "outputId": "74ad18dc-cbd6-4ffb-dd5f-5df2209dccf5"
      },
      "execution_count": 18,
      "outputs": [
        {
          "output_type": "execute_result",
          "data": {
            "text/plain": [
              "(1212,)"
            ]
          },
          "metadata": {},
          "execution_count": 18
        }
      ]
    },
    {
      "cell_type": "markdown",
      "source": [
        "Train Test Split"
      ],
      "metadata": {
        "id": "97JueEFvNhPe"
      }
    },
    {
      "cell_type": "code",
      "source": [
        "from sklearn.model_selection import train_test_split\n",
        "\n",
        "\n",
        "X_train, X_test, y_train, y_test = train_test_split(X_scaled, y, test_size=0.3, random_state=42)\n",
        "\n",
        "\n",
        "X_train.shape\n",
        "y_train.shape\n",
        "X_test.shape\n",
        "y_test.shape\n"
      ],
      "metadata": {
        "colab": {
          "base_uri": "https://localhost:8080/"
        },
        "id": "-xGwA5DCNiYC",
        "outputId": "30a4d5d4-4e3a-41fe-d56e-888c111a4964"
      },
      "execution_count": 19,
      "outputs": [
        {
          "output_type": "execute_result",
          "data": {
            "text/plain": [
              "(364,)"
            ]
          },
          "metadata": {},
          "execution_count": 19
        }
      ]
    },
    {
      "cell_type": "markdown",
      "source": [
        "Modeling"
      ],
      "metadata": {
        "id": "ortLCTHAOAD6"
      }
    },
    {
      "cell_type": "code",
      "source": [
        "from sklearn.linear_model import LogisticRegression\n",
        "from sklearn.metrics import accuracy_score, confusion_matrix, classification_report\n",
        "\n",
        "\n",
        "model = LogisticRegression()\n",
        "\n",
        "\n",
        "model.fit(X_train, y_train)\n",
        "\n",
        "\n",
        "y_pred = model.predict(X_test)\n",
        "\n",
        "\n",
        "accuracy = accuracy_score(y_test, y_pred)\n",
        "conf_matrix = confusion_matrix(y_test, y_pred)\n",
        "class_report = classification_report(y_test, y_pred)\n",
        "\n",
        "accuracy\n",
        "conf_matrix\n",
        "class_report\n"
      ],
      "metadata": {
        "colab": {
          "base_uri": "https://localhost:8080/",
          "height": 53
        },
        "id": "kKZhqyfAODQC",
        "outputId": "60b78ab0-0855-4793-ba32-2943f156a796"
      },
      "execution_count": 20,
      "outputs": [
        {
          "output_type": "execute_result",
          "data": {
            "text/plain": [
              "'              precision    recall  f1-score   support\\n\\n           0       0.59      0.98      0.74       176\\n           1       0.96      0.36      0.53       188\\n\\n    accuracy                           0.66       364\\n   macro avg       0.77      0.67      0.63       364\\nweighted avg       0.78      0.66      0.63       364\\n'"
            ],
            "application/vnd.google.colaboratory.intrinsic+json": {
              "type": "string"
            }
          },
          "metadata": {},
          "execution_count": 20
        }
      ]
    },
    {
      "cell_type": "markdown",
      "source": [
        "Model Evaluation"
      ],
      "metadata": {
        "id": "MdeTS_UZOdUA"
      }
    },
    {
      "cell_type": "code",
      "source": [
        "accuracy = accuracy_score(y_test, y_pred)\n",
        "conf_matrix = confusion_matrix(y_test, y_pred)\n",
        "class_report = classification_report(y_test, y_pred)\n",
        "accuracy\n",
        "conf_matrix\n",
        "class_report\n"
      ],
      "metadata": {
        "colab": {
          "base_uri": "https://localhost:8080/",
          "height": 53
        },
        "id": "s7lsYcXaOgs5",
        "outputId": "3d84fe92-be91-4232-c6b5-9f9f9fba221f"
      },
      "execution_count": 22,
      "outputs": [
        {
          "output_type": "execute_result",
          "data": {
            "text/plain": [
              "'              precision    recall  f1-score   support\\n\\n           0       0.59      0.98      0.74       176\\n           1       0.96      0.36      0.53       188\\n\\n    accuracy                           0.66       364\\n   macro avg       0.77      0.67      0.63       364\\nweighted avg       0.78      0.66      0.63       364\\n'"
            ],
            "application/vnd.google.colaboratory.intrinsic+json": {
              "type": "string"
            }
          },
          "metadata": {},
          "execution_count": 22
        }
      ]
    },
    {
      "cell_type": "markdown",
      "source": [
        "Prediction"
      ],
      "metadata": {
        "id": "9FDMdAFYOzBQ"
      }
    },
    {
      "cell_type": "code",
      "source": [
        "\n",
        "y_pred = model.predict(X_test)\n",
        "\n",
        "y_pred[:10]\n",
        "\n"
      ],
      "metadata": {
        "colab": {
          "base_uri": "https://localhost:8080/"
        },
        "id": "dIHQax_mO5nZ",
        "outputId": "3585ca5d-4427-4d18-cdf6-4c4d417ae59f"
      },
      "execution_count": 23,
      "outputs": [
        {
          "output_type": "execute_result",
          "data": {
            "text/plain": [
              "array([0, 1, 1, 0, 0, 0, 0, 1, 1, 0])"
            ]
          },
          "metadata": {},
          "execution_count": 23
        }
      ]
    }
  ]
}